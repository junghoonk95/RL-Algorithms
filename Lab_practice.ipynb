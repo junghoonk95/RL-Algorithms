{
 "cells": [
  {
   "cell_type": "markdown",
   "metadata": {},
   "source": [
    "# Problem 1 (Value iteration)\n",
    "\n",
    "*OpenAI gym FrozenLake environment*\n",
    "\n",
    "Winter is here. You and your friends were tossing around a frisbee at the park\n",
    "    when you made a wild throw that left the frisbee out in the middle of the lake.\n",
    "    The water is mostly frozen, but there are a few holes where the ice has melted.\n",
    "    If you step into one of those holes, you'll fall into the freezing water.\n",
    "    At this time, there's an international frisbee shortage, so it's absolutely imperative that\n",
    "    you navigate across the lake and retrieve the disc.\n",
    "    However, the ice is slippery, so you won't always move in the direction you intend.\n",
    "    The surface is described using a grid like the following\n",
    "\n",
    "        SFFF\n",
    "        FHFH\n",
    "        FFFH\n",
    "        HFFG\n",
    "\n",
    "    S : starting point, safe\n",
    "    F : frozen surface, safe\n",
    "    H : hole, fall to your doom\n",
    "    G : goal, where the frisbee is located\n",
    "\n",
    "    The episode ends when you reach the goal or fall in a hole.\n",
    "    You receive a reward of 1 if you reach the goal, and zero otherwise."
   ]
  },
  {
   "cell_type": "markdown",
   "metadata": {},
   "source": [
    "In this assignment, you will be implementing a value iteration algorithm"
   ]
  },
  {
   "cell_type": "code",
   "execution_count": 1,
   "metadata": {},
   "outputs": [
    {
     "name": "stdout",
     "output_type": "stream",
     "text": [
      "numpy version 1.25.2\n",
      "gym version 0.25.0\n"
     ]
    }
   ],
   "source": [
    "import gym\n",
    "import numpy as np\n",
    "print(\"numpy version\", np.__version__)\n",
    "print(\"gym version\", gym.__version__)"
   ]
  },
  {
   "cell_type": "code",
   "execution_count": 2,
   "metadata": {},
   "outputs": [
    {
     "name": "stderr",
     "output_type": "stream",
     "text": [
      "/Users/wooseong/miniforge3/lib/python3.9/site-packages/gym/core.py:329: DeprecationWarning: \u001b[33mWARN: Initializing wrapper in old step API which returns one bool instead of two. It is recommended to set `new_step_api=True` to use new step API. This will be the default behaviour in future.\u001b[0m\n",
      "  deprecation(\n",
      "/Users/wooseong/miniforge3/lib/python3.9/site-packages/gym/wrappers/step_api_compatibility.py:39: DeprecationWarning: \u001b[33mWARN: Initializing environment in old step API which returns one bool instead of two. It is recommended to set `new_step_api=True` to use new step API. This will be the default behaviour in future.\u001b[0m\n",
      "  deprecation(\n"
     ]
    }
   ],
   "source": [
    "env=gym.make('FrozenLake-v1')"
   ]
  },
  {
   "cell_type": "code",
   "execution_count": 3,
   "metadata": {},
   "outputs": [],
   "source": [
    "## DO NOT CHANGE THIS CELL\n",
    "\n",
    "def argmax(env, V, pi, action, s, gamma):\n",
    "    e = np.zeros(env.action_space.n)\n",
    "    for a in range(env.action_space.n): # iterate for every action possible\n",
    "        q = 0\n",
    "        P = env.P[s][a]\n",
    "        for prob, next_state, reward, done in P:    # iterate for every possible states\n",
    "            q += prob * (reward + gamma * V[next_state])    # calculate action_ value q(s|a)\n",
    "        e[a] = q\n",
    "\n",
    "    m = np.argmax(e)\n",
    "    action[s] = m   # Take index which has maximum value \n",
    "    pi[s][m] = 1    # update pi(a|s) \n",
    "\n",
    "    return pi"
   ]
  },
  {
   "cell_type": "markdown",
   "metadata": {},
   "source": [
    "Your task is to complete the \"bellman_opt_update\" function below, which servces as a subroutine for the value iteration method."
   ]
  },
  {
   "cell_type": "code",
   "execution_count": 4,
   "metadata": {},
   "outputs": [],
   "source": [
    "def bellman_opt_update(env, V, s, gamma): # update the state_value V[s]\n",
    "    ####Your code here####\n",
    "    pass"
   ]
  },
  {
   "cell_type": "code",
   "execution_count": 5,
   "metadata": {},
   "outputs": [],
   "source": [
    "def value_iteration(env, gamma, theta):\n",
    "    V = np.zeros(env.observation_space.n)   # initialize v(0) to arbitory value, my case \"zeros\"\n",
    "    while True:\n",
    "        delta = 0\n",
    "        for s in range(env.observation_space.n):    # iterate for all states\n",
    "            v = V[s]\n",
    "            bellman_opt_update(env, V, s, gamma)    # update state_value with bellman optimality update\n",
    "            delta = max(delta, abs(v - V[s]))   # assign the change in value per iteration to delta  \n",
    "        if delta < theta:\n",
    "            break   # if change gets to negligible --> converged to optimal value\n",
    "\n",
    "    pi = np.zeros((env.observation_space.n, env.action_space.n))\n",
    "    action = np.zeros((env.observation_space.n))\n",
    "    for s in range(env.observation_space.n):\n",
    "        pi = argmax(env, V, pi, action, s, gamma)   # extract optimal policy using action value \n",
    "\n",
    "    return V, pi, action     # optimal value funtion, optimal policy with one-hot encoding (pi), optimal policy with discrete number (action)"
   ]
  },
  {
   "cell_type": "code",
   "execution_count": 6,
   "metadata": {},
   "outputs": [
    {
     "name": "stderr",
     "output_type": "stream",
     "text": [
      "/Users/wooseong/miniforge3/lib/python3.9/site-packages/gym/core.py:268: DeprecationWarning: \u001b[33mWARN: Function `env.seed(seed)` is marked as deprecated and will be removed in the future. Please use `env.reset(seed=seed)` instead.\u001b[0m\n",
      "  deprecation(\n",
      "/Users/wooseong/miniforge3/lib/python3.9/site-packages/gym/utils/passive_env_checker.py:241: DeprecationWarning: `np.bool8` is a deprecated alias for `np.bool_`.  (Deprecated NumPy 1.24)\n",
      "  if not isinstance(terminated, (bool, np.bool8)):\n"
     ]
    },
    {
     "name": "stdout",
     "output_type": "stream",
     "text": [
      " agent succeeded to reach goal 741 out of 1000 Episodes using this policy \n",
      " success rate: 0.741\n"
     ]
    }
   ],
   "source": [
    "## DO NOT CHANGE THIS CELL\n",
    "\n",
    "gamma = 0.99\n",
    "theta = 0.000001\n",
    "\n",
    "env.seed(1)\n",
    "V, pi, action = value_iteration(env, gamma, theta) # note \"action\" is optimal policy with discrete action number\n",
    "\n",
    "#initialize episodic structure\n",
    "num_episodes=1000;\n",
    "episode_max_length=10000;\n",
    "\n",
    "e=0\n",
    "for i_episode in range(num_episodes):\n",
    "    s = env.reset()\n",
    "    for t in range(episode_max_length):\n",
    "        s, reward, done, _ = env.step(action[s])\n",
    "        if done:\n",
    "            if reward == 1:\n",
    "                e +=1\n",
    "            break\n",
    "print(\" agent succeeded to reach goal {} out of {} Episodes using this policy \".format(e+1, num_episodes))\n",
    "print(\" success rate:\", (e+1)/num_episodes)\n",
    "env.close()"
   ]
  },
  {
   "cell_type": "markdown",
   "metadata": {},
   "source": [
    "# Problem 2 (Q-learning)"
   ]
  },
  {
   "cell_type": "markdown",
   "metadata": {},
   "source": [
    "For proper accounting rewards while you learn, we build a wrapper around env.step() and env.reset(). In an episode, every time you take an action the reward will be appended to the reward of the episode, and when ever the environment is reset (at the end of an epsiode), the episode reward is reset to 0. "
   ]
  },
  {
   "cell_type": "code",
   "execution_count": 7,
   "metadata": {},
   "outputs": [],
   "source": [
    "## DO NOT CHANGE THIS CELL\n",
    "#wrapper for accounting rewards\n",
    "rEpisode=0\n",
    "rList=[]\n",
    "\n",
    "def reset_decorate(func):\n",
    "    def func_wrapper():\n",
    "        global rList\n",
    "        global rEpisode\n",
    "        rList.append(rEpisode)\n",
    "        rEpisode=0\n",
    "        return(func())\n",
    "    return func_wrapper\n",
    "\n",
    "env.reset = reset_decorate(env.reset)\n",
    "\n",
    "def step_decorate(func):\n",
    "    def func_wrapper(action):\n",
    "        global rEpisode\n",
    "        s1, r, d, other = func(action)\n",
    "        rEpisode+=r\n",
    "        return(s1, r, d, other)\n",
    "    return func_wrapper\n",
    "\n",
    "env.step = step_decorate(env.step)\n",
    "\n",
    "def init():\n",
    "    rEpisode=0\n",
    "    rList=[]\n",
    "    return;"
   ]
  },
  {
   "cell_type": "code",
   "execution_count": 8,
   "metadata": {},
   "outputs": [],
   "source": [
    "## DO NOT CHANGE THIS CELL\n",
    "# PLOTTING functions\n",
    "from numpy import convolve, ones\n",
    "def movingaverage(interval, window_size):\n",
    "    window= np.ones(int(window_size))/float(window_size)\n",
    "    return np.convolve(interval, window, 'valid')\n",
    "from pylab import plot\n",
    "%matplotlib inline "
   ]
  },
  {
   "cell_type": "markdown",
   "metadata": {},
   "source": [
    "Below we illustrate the execution of the Open AI gym enviornment using the policy of chosing random action in every state. Every time an action is taken the enviorment returns a tuple containing next state, reward, and the status (whether terminal state is reached or not). "
   ]
  },
  {
   "cell_type": "code",
   "execution_count": 9,
   "metadata": {},
   "outputs": [
    {
     "data": {
      "image/png": "[encoded data removed]",
      "text/plain": [
       "<Figure size 432x288 with 1 Axes>"
      ]
     },
     "metadata": {
      "needs_background": "light"
     },
     "output_type": "display_data"
    }
   ],
   "source": [
    "## DO NOT CHANGE THIS CELL\n",
    "### RANDOM SAMPLING EXAMPLE\n",
    "num_episodes=5000; #number of episodes you want to try\n",
    "episode_max_length=100; #you can explicitly end the epsiode before terminal state is reached\n",
    "\n",
    "env.reset()\n",
    "#env.render()\n",
    "#execute in episodes\n",
    "for i in range(num_episodes):\n",
    "    d = False #not done\n",
    "    #rFinal=0\n",
    "    for t in range(episode_max_length):\n",
    "        \n",
    "        ################ Random action policy ###########################\n",
    "        #play random action \n",
    "        a = env.action_space.sample()\n",
    "        #get new state, reward, done\n",
    "        s, r, d, _ = env.step(a)\n",
    "        #################################################################\n",
    "        \n",
    "        \n",
    "        #break if done, reached terminal state \n",
    "        if d == True:\n",
    "            break\n",
    "    #reset the environment for the next episode\n",
    "    s = env.reset()\n",
    "\n",
    "rm=movingaverage(rList, 100)\n",
    "plot(rm)\n",
    "rEpisode=0\n",
    "rList=[]"
   ]
  },
  {
   "cell_type": "markdown",
   "metadata": {},
   "source": [
    "Implement tabular Q-learning (*YOU SHOULD ONLY CHANGE THE CELL BELOW*)"
   ]
  },
  {
   "cell_type": "code",
   "execution_count": 16,
   "metadata": {},
   "outputs": [],
   "source": [
    "## CHANGE THIS CELL BY YOURSELF\n",
    "###ALWAYS DO RUN ALL CELLS, otherwise some structures may not get initialized properly\n",
    "rEpisode=0\n",
    "rList=[]\n",
    "\n",
    "#initialize episodic structure\n",
    "num_episodes=5000;\n",
    "episode_max_length=100;\n",
    "\n",
    "#initialize discount factor, learning rate\n",
    "########Hyperparameter tuning###########\n",
    "gamma=0\n",
    "learnRate=0\n",
    "\n",
    "## Epsilon greedy\n",
    "eps = 0.9\n",
    "eps_decay = 0.99\n",
    "##\n",
    "\n",
    "#create Q table\n",
    "Q=np.zeros([env.observation_space.n,env.action_space.n]) #matrix Q[s,a]\n",
    "\n",
    "#execute in episodes\n",
    "for i in range(num_episodes):\n",
    "    \n",
    "    #reset the environment at the beginning of an episode\n",
    "    s = env.reset()\n",
    "    d = False #not done\n",
    "    \n",
    "    for t in range(episode_max_length):\n",
    "        \n",
    "        ###########SELCT ACTION a for state s using Q-values ##################\n",
    "        # e-greedy action\n",
    "        ################# YOUR CODE HERE #####################\n",
    "        \n",
    "        \n",
    "        \n",
    "        ######################################################\n",
    "        \n",
    "        #get new state, reward, done\n",
    "        s1, r, d, _ = env.step(a)\n",
    "        \n",
    "        ##### update Q(s,a) ############\n",
    "        ## Q-learning update: Bellman Optimal Equation update\n",
    "        ################# YOUR CODE HERE #####################\n",
    "        \n",
    "        \n",
    "        ######################################################\n",
    "        \n",
    "        #break if done, reached terminal state \n",
    "        if d == True:\n",
    "            break\n",
    "        s=s1\n",
    "    \n",
    "    eps = eps * eps_decay"
   ]
  },
  {
   "cell_type": "markdown",
   "metadata": {},
   "source": [
    "plot moving average over 100 episodes"
   ]
  },
  {
   "cell_type": "code",
   "execution_count": 17,
   "metadata": {},
   "outputs": [
    {
     "name": "stdout",
     "output_type": "stream",
     "text": [
      "Solved after 838 episodes.\n"
     ]
    },
    {
     "data": {
      "image/png": "[encoded data removed]",
      "text/plain": [
       "<Figure size 432x288 with 1 Axes>"
      ]
     },
     "metadata": {
      "needs_background": "light"
     },
     "output_type": "display_data"
    }
   ],
   "source": [
    "## DO NOT CHANGE THIS CELL\n",
    "rm=movingaverage(rList, 100)\n",
    "plot(rm)\n",
    "criterion = len(np.where(rm >= .78)[0]) >0\n",
    "if criterion:\n",
    "    print(\"Solved after %d episodes.\" % np.where(rm >= .78)[0][0])\n",
    "else:\n",
    "    print(\"Unsolved Yet!\")"
   ]
  },
  {
   "cell_type": "markdown",
   "metadata": {},
   "source": [
    "# Problem 3 (SARSA)\n",
    "Implement tabular SARSA (*YOU SHOULD ONLY CHANGE THE CELL BELOW*)"
   ]
  },
  {
   "cell_type": "code",
   "execution_count": 14,
   "metadata": {},
   "outputs": [],
   "source": [
    "np.random.seed(123)\n",
    "\n",
    "# Number of episodes and other hyperparameters\n",
    "num_episodes = 5000\n",
    "episode_max_length = 100\n",
    "gamma = 0   # hyperparameter tuning\n",
    "learn_rate = 0  # hyperparameter tuning\n",
    "eps = 0.9\n",
    "eps_decay = 0.99\n",
    "\n",
    "# Create Q-table for FrozenLake-v1\n",
    "Q = np.zeros([env.observation_space.n, env.action_space.n])\n",
    "\n",
    "# Execute in episodes\n",
    "for i in range(num_episodes):\n",
    "    # Reset the environment at the beginning of an episode\n",
    "    s = env.reset()\n",
    "    d = False  # Not done\n",
    "\n",
    "    for t in range(episode_max_length):\n",
    "        \n",
    "        ########### SELECT ACTION a for state  using current policy ##################\n",
    "        ## Take an action at state s by e-greedy policy\n",
    "        ################# YOUR CODE HERE #####################\n",
    "        \n",
    "        \n",
    "        ######################################################\n",
    "\n",
    "        # Get new state, reward, done\n",
    "        s1, r, d, _ = env.step(a)\n",
    "\n",
    "        ##### Update Q(s,a) ############\n",
    "        ## Take an action at state s1 by e-greedy policy\n",
    "        ################# YOUR CODE HERE #####################\n",
    "        \n",
    "        \n",
    "        ######################################################\n",
    "\n",
    "        ## SARSA Update\n",
    "        ################# YOUR CODE HERE #####################\n",
    "        \n",
    "        \n",
    "        ######################################################\n",
    "\n",
    "        # Break if done, reached a terminal state\n",
    "        if d:\n",
    "            break\n",
    "        \n",
    "        # Update state\n",
    "        ################# YOUR CODE HERE #####################\n",
    "        \n",
    "        \n",
    "        ######################################################\n",
    "\n",
    "    # Epsilon decay\n",
    "    eps = eps * eps_decay\n",
    "\n",
    "    # Policy improvement\n",
    "    pi = np.argmax(Q, axis=1)"
   ]
  },
  {
   "cell_type": "code",
   "execution_count": 15,
   "metadata": {},
   "outputs": [
    {
     "name": "stdout",
     "output_type": "stream",
     "text": [
      "Solved after 6469 episodes.\n"
     ]
    },
    {
     "data": {
      "image/png": "[encoded data removed]",
      "text/plain": [
       "<Figure size 432x288 with 1 Axes>"
      ]
     },
     "metadata": {
      "needs_background": "light"
     },
     "output_type": "display_data"
    }
   ],
   "source": [
    "## DO NOT CHANGE THIS CELL\n",
    "rm=movingaverage(rList, 100)\n",
    "plot(rm)\n",
    "criterion = len(np.where(rm >= .78)[0]) >0\n",
    "if criterion:\n",
    "    print(\"Solved after %d episodes.\" % np.where(rm >= .78)[0][0])\n",
    "else:\n",
    "    print(\"Unsolved Yet!\")"
   ]
  },
  {
   "cell_type": "code",
   "execution_count": null,
   "metadata": {},
   "outputs": [],
   "source": []
  }
 ],
 "metadata": {
  "kernelspec": {
   "display_name": "base",
   "language": "python",
   "name": "python3"
  },
  "language_info": {
   "codemirror_mode": {
    "name": "ipython",
    "version": 3
   },
   "file_extension": ".py",
   "mimetype": "text/x-python",
   "name": "python",
   "nbconvert_exporter": "python",
   "pygments_lexer": "ipython3",
   "version": "3.9.6"
  }
 },
 "nbformat": 4,
 "nbformat_minor": 2
}
